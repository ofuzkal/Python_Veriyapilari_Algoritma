{
  "nbformat": 4,
  "nbformat_minor": 0,
  "metadata": {
    "colab": {
      "provenance": []
    },
    "kernelspec": {
      "name": "python3",
      "display_name": "Python 3"
    },
    "language_info": {
      "name": "python"
    }
  },
  "cells": [
    {
      "cell_type": "code",
      "execution_count": 7,
      "metadata": {
        "colab": {
          "base_uri": "https://localhost:8080/"
        },
        "id": "g0mUyaPPoVXg",
        "outputId": "789a0deb-2d5c-46d8-e79d-1c54e088b825"
      },
      "outputs": [
        {
          "output_type": "stream",
          "name": "stdout",
          "text": [
            "Merhaba, İGÜ - İSTKA / Ders 2\n"
          ]
        }
      ],
      "source": [
        "print(\"Merhaba, İGÜ - İSTKA / Ders 2\") # print ekrana çıktı verir"
      ]
    },
    {
      "cell_type": "code",
      "source": [
        "import sys # import python programlama dilinde yazılıma kütüphane eklemeye yararyan bir dkod blogudur.\n",
        "print(sys.version)"
      ],
      "metadata": {
        "colab": {
          "base_uri": "https://localhost:8080/"
        },
        "id": "MOG9Y95kpRiD",
        "outputId": "cc6bd9d1-30f0-4886-ddf6-4ac8fd75bfa4"
      },
      "execution_count": 8,
      "outputs": [
        {
          "output_type": "stream",
          "name": "stdout",
          "text": [
            "3.10.12 (main, Jul 29 2024, 16:56:48) [GCC 11.4.0]\n"
          ]
        }
      ]
    },
    {
      "cell_type": "code",
      "source": [
        "from google.colab import drive # Google colab  -  Drive bağlantısı\n",
        "drive.mount('/content/drive')"
      ],
      "metadata": {
        "colab": {
          "base_uri": "https://localhost:8080/"
        },
        "id": "F-dxeQrlpsnH",
        "outputId": "8f29fd19-e62b-48bc-d72c-4a6d55b8d59f"
      },
      "execution_count": 9,
      "outputs": [
        {
          "output_type": "stream",
          "name": "stdout",
          "text": [
            "Drive already mounted at /content/drive; to attempt to forcibly remount, call drive.mount(\"/content/drive\", force_remount=True).\n"
          ]
        }
      ]
    },
    {
      "cell_type": "code",
      "source": [
        "import os\n",
        "os.chdir('/content/drive/My Drive/veriyapilari_istka')\n",
        "!pwd # Bize kodun çıktısını dosya yolu olarak veren kod blogudur."
      ],
      "metadata": {
        "colab": {
          "base_uri": "https://localhost:8080/"
        },
        "id": "viz36pZepz70",
        "outputId": "5494ea0b-38bf-433f-b226-3cd5dbbe8401"
      },
      "execution_count": 46,
      "outputs": [
        {
          "output_type": "stream",
          "name": "stdout",
          "text": [
            "/content/drive/My Drive/veriyapilari_istka\n"
          ]
        }
      ]
    },
    {
      "cell_type": "markdown",
      "source": [
        "VERİ YAPILARI ve TİPLERİ\n",
        "\n",
        "Veri Yapıları nedir? Veri yapıları, verilerin organize edilmesinde ve saklanırken türlerini tanımlar. Bu yapılar, verilerin etkin bir şekilde kullanımı - işlenmesini sağlamaktadır.\n",
        "\n",
        "Buradaki ilk kural değişken isimlendirme kurallarının kavranmasıdır.\n",
        "\n",
        "Değişken ismi arasında boşluk bilgisi kesinlikle olmamalıdır.\n",
        "Özel karakter kesinlikle eklenmemelidir.\n",
        "Değişkenlerde Türkçe Karakter kullanılmamalıdır\n",
        "Döngü ve Kontrol yapılarının isimleri değişken olamaz (if, for, while)\n",
        "Büyük ve Küçük harf duyarlılığı unutulmamalıdır.\n",
        "Veri Tipleri\n",
        "\n",
        "Integer - Tamsayı tanımlaması\n",
        "Float - Ondalıklı Sayı tanımlaması\n",
        "String - Metinsel içerik tanımlaması\n",
        "Boolean (True - False) - Doğru / Yanlış tanımlaması\n",
        "List - Liste tanımlaması\n",
        "Tuple - Demet tanımlaması\n",
        "Dictionary - Sözlük tanımlaması\n",
        "Set - Küme tanımlaması\n",
        "Python Programlama Dili Temelinde Kullanılan Fonksiyonlar\n",
        "\n",
        "len() -> bir değişkenin uzunluğunu ele almaktadır.\n",
        "type() -> bir değişkenin veri tipini vermektedir.\n",
        "print() -> belirtilen değeri veya değerleri ekrana yazdırır.\n",
        "capitalized() -> bir dizeyi alır ve sadece ilk harfini büyük harf yapar, geri kalan harfleri küçük harf yapar.\n",
        "split() -> bir dizeyi belirli bir ayırıcıya göre böler ve her bir parçayı liste elemanı olarak döner.\n",
        "upper() -> bir dizedeki tüm harfleri büyük harfe çevirir.\n",
        "input() -> kullanıcıdan veri almak için kullanılmaktadır.\n",
        "float() -> bir değeri ondalıklı sayı veri tipine dönüştürmek için kullanılır.\n",
        "int() -> bir değeri tam sayı veri tipine dönüştürmek için kullanılır.\n",
        "abs() -> mutlak değer alma fonksiyonudur.\n",
        "Python Programlama Dilinde Kullanılan Temel Ktüphaneler\n",
        "\n",
        "Kütüphane terim olarak; Belirli bir işlevselliği gerçekleştirmek için önceden yazılmış kod bloklarının bir topluluğudur.\n",
        "\n",
        "Özellikler:\n",
        "\n",
        "Yeniden Kullanılabilirlik\n",
        "\n",
        "Modülerlik\n",
        "\n",
        "Kolaylık, Hız ve Esneklik\n",
        "\n",
        "Dökümantasyon:\n",
        "\n",
        "Python Programlama dilinde Kütüphaneler \"import\" ile yazılıma eklenmektedir. Temel Kütüphaneler:\n",
        "\n",
        "import os -> işletim sistemiyle etkilişimli kod yazımı için gerekli olan bir kütüphanedir. Asli görevi dizin işlemleridir.\n",
        "\n",
        "import random -> yazılımda rastgele bir sayı üretmebilmek için kullanılan bir kütüphanedir."
      ],
      "metadata": {
        "id": "lKc7shKEHE2v"
      }
    },
    {
      "cell_type": "code",
      "source": [
        "# Geçerli değişken tanımlaması\n",
        "degisken_=10\n",
        "Degisken2=20\n",
        "_degisken3=30"
      ],
      "metadata": {
        "id": "ID3ZOb_Bvluy"
      },
      "execution_count": 47,
      "outputs": []
    },
    {
      "cell_type": "code",
      "source": [
        "# Geçersiz değişken tanımlaması\n",
        "\n",
        "1degisken= 40\n",
        "degisken-4= 50"
      ],
      "metadata": {
        "colab": {
          "base_uri": "https://localhost:8080/",
          "height": 106
        },
        "id": "r7sbCrV-wIzZ",
        "outputId": "4e0aa741-68f1-42b1-f530-5254160cb35c"
      },
      "execution_count": 48,
      "outputs": [
        {
          "output_type": "error",
          "ename": "SyntaxError",
          "evalue": "invalid decimal literal (<ipython-input-48-81edbc7cd26f>, line 3)",
          "traceback": [
            "\u001b[0;36m  File \u001b[0;32m\"<ipython-input-48-81edbc7cd26f>\"\u001b[0;36m, line \u001b[0;32m3\u001b[0m\n\u001b[0;31m    1degisken= 40\u001b[0m\n\u001b[0m    ^\u001b[0m\n\u001b[0;31mSyntaxError\u001b[0m\u001b[0;31m:\u001b[0m invalid decimal literal\n"
          ]
        }
      ]
    },
    {
      "cell_type": "code",
      "source": [
        "# Değişkenleri tanımlama işlemi\n",
        "\n",
        "x = 8\n",
        "y = \"Merhaba Dünya\"\n",
        "\n",
        "print(x)\n",
        "print(y)"
      ],
      "metadata": {
        "colab": {
          "base_uri": "https://localhost:8080/"
        },
        "id": "Bzp1h2gOwaJ3",
        "outputId": "2d962e28-636b-4251-ce7d-8504d3584d2b"
      },
      "execution_count": 49,
      "outputs": [
        {
          "output_type": "stream",
          "name": "stdout",
          "text": [
            "8\n",
            "Merhaba Dünya\n"
          ]
        }
      ]
    },
    {
      "cell_type": "code",
      "source": [
        "# Integer  Tamsayı tanımlaması\n",
        "\n",
        "a= 11\n",
        "\n",
        "print(type(a))"
      ],
      "metadata": {
        "colab": {
          "base_uri": "https://localhost:8080/"
        },
        "id": "VuKOIEDxw-Em",
        "outputId": "8d314877-9b20-4a0e-96f2-778d09dde7ec"
      },
      "execution_count": 50,
      "outputs": [
        {
          "output_type": "stream",
          "name": "stdout",
          "text": [
            "<class 'int'>\n"
          ]
        }
      ]
    },
    {
      "cell_type": "code",
      "source": [
        "# Float - Ondalıklı sayı tanımlama\n",
        "\n",
        "b=78.5\n",
        "print(type(b))"
      ],
      "metadata": {
        "colab": {
          "base_uri": "https://localhost:8080/"
        },
        "id": "oYGYcEN8591m",
        "outputId": "c8acee16-31d7-46cc-ac42-7ba4cc4b4e40"
      },
      "execution_count": 51,
      "outputs": [
        {
          "output_type": "stream",
          "name": "stdout",
          "text": [
            "<class 'float'>\n"
          ]
        }
      ]
    },
    {
      "cell_type": "code",
      "source": [
        "# İnt'ten floata'a çevrimini gerçekleştirilmesi\n",
        "\n",
        "x = 14\n",
        "\n",
        "y=float(x)\n",
        "\n",
        "print(y,type(y))"
      ],
      "metadata": {
        "colab": {
          "base_uri": "https://localhost:8080/"
        },
        "id": "3E3vsiqd6eFy",
        "outputId": "ec1749ba-9bc5-4dc3-dba0-e95b124f6279"
      },
      "execution_count": 52,
      "outputs": [
        {
          "output_type": "stream",
          "name": "stdout",
          "text": [
            "14.0 <class 'float'>\n"
          ]
        }
      ]
    },
    {
      "cell_type": "code",
      "source": [
        "# Float'tan int'e çevrimin gerçekleştirilmesi\n",
        "\n",
        "a = 12.15\n",
        "\n",
        "b=int(a)\n",
        "\n",
        "print(b, type(b))"
      ],
      "metadata": {
        "colab": {
          "base_uri": "https://localhost:8080/"
        },
        "id": "slXxJjyK6-ST",
        "outputId": "6f4b8b61-6c0d-477f-87be-be1c5dd862fb"
      },
      "execution_count": 53,
      "outputs": [
        {
          "output_type": "stream",
          "name": "stdout",
          "text": [
            "12 <class 'int'>\n"
          ]
        }
      ]
    },
    {
      "cell_type": "code",
      "source": [
        "# String - Metinsel içerik tanımlaması\n",
        "\n",
        "c= \"Python Programlama\"\n",
        "\n",
        "print(c)\n",
        "print(type(c))"
      ],
      "metadata": {
        "colab": {
          "base_uri": "https://localhost:8080/"
        },
        "id": "KpDkuF7b7d1n",
        "outputId": "684c42fa-5fc7-4be1-c65e-1271c068ce80"
      },
      "execution_count": 54,
      "outputs": [
        {
          "output_type": "stream",
          "name": "stdout",
          "text": [
            "Python Programlama\n",
            "<class 'str'>\n"
          ]
        }
      ]
    },
    {
      "cell_type": "code",
      "source": [
        "# Boolean (True- False) - Doğru / Yanlış tanımlaması\n",
        "\n",
        "d= True\n",
        "e= False\n",
        "\n",
        "print(d)\n",
        "print(type(e))"
      ],
      "metadata": {
        "colab": {
          "base_uri": "https://localhost:8080/"
        },
        "id": "qy_FOxtl77BS",
        "outputId": "92cf58b6-5774-4ef6-ea68-d935151cb97e"
      },
      "execution_count": 55,
      "outputs": [
        {
          "output_type": "stream",
          "name": "stdout",
          "text": [
            "True\n",
            "<class 'bool'>\n"
          ]
        }
      ]
    },
    {
      "cell_type": "code",
      "source": [
        "# List - Liste tanımlaması\n",
        "\n",
        "liste = [5,6,4,8]\n",
        "print(type(liste))\n",
        "print(liste)\n"
      ],
      "metadata": {
        "colab": {
          "base_uri": "https://localhost:8080/"
        },
        "id": "igaBZPSr82Pf",
        "outputId": "85d36491-8f96-4989-e118-56a15ccde1b8"
      },
      "execution_count": 56,
      "outputs": [
        {
          "output_type": "stream",
          "name": "stdout",
          "text": [
            "<class 'list'>\n",
            "[5, 6, 4, 8]\n"
          ]
        }
      ]
    },
    {
      "cell_type": "code",
      "source": [
        "# Tuple - Demet tanımlaması\n",
        "\n",
        "demet = (4,2,8,3)\n",
        "print (type(demet))\n",
        "print(demet)"
      ],
      "metadata": {
        "colab": {
          "base_uri": "https://localhost:8080/"
        },
        "id": "ecokmdwk-WwE",
        "outputId": "f7f0949d-bd5b-41f8-cce4-56706d3354cf"
      },
      "execution_count": 57,
      "outputs": [
        {
          "output_type": "stream",
          "name": "stdout",
          "text": [
            "<class 'tuple'>\n",
            "(4, 2, 8, 3)\n"
          ]
        }
      ]
    },
    {
      "cell_type": "markdown",
      "source": [
        "Dictionary - Sözlük Nedir?\n",
        "\n",
        "Sözlükler, anahtar-değer (key-value) çiftlerini depolayan veri yapılarıdır.\n",
        "Her anahtar benzersizdir ve bir değere karşılık gelir.\n",
        "Sözlükler sırasızdır ve değiştirilebilir.\n",
        "Sözlük Metotları\n",
        "\n",
        "keys(): Sözlüğün anahtarlarını döner.\n",
        "values(): Sözlüğün değerlerini döner.\n",
        "items(): Sözlüğün anahtar-değer çiftlerini döner."
      ],
      "metadata": {
        "id": "3TnFQReJG3sY"
      }
    },
    {
      "cell_type": "code",
      "source": [
        "# Dictionary - Sözlük Örneği ->   Öğrencilerin not ortalaması\n",
        "\n",
        "notlar= {\n",
        "    \"Ahmet\":75,\n",
        "    \"Veli\":90,\n",
        "    \"Ayşe\"  :78,\n",
        "}\n",
        "\n",
        "notlar[\"Fatma\"]= 80 # Yeni öğrenci ekleme\n",
        "\n",
        "notlar[\"Ali\"] =55 #Bir öğrencinin notunu güncelleme\n",
        "\n",
        "print(notlar)\n"
      ],
      "metadata": {
        "colab": {
          "base_uri": "https://localhost:8080/"
        },
        "id": "k09aiEWr--7t",
        "outputId": "19e7f002-bf20-49c6-d051-e6ef86e273e1"
      },
      "execution_count": 58,
      "outputs": [
        {
          "output_type": "stream",
          "name": "stdout",
          "text": [
            "{'Ahmet': 75, 'Veli': 90, 'Ayşe': 78, 'Fatma': 80, 'Ali': 55}\n"
          ]
        }
      ]
    },
    {
      "cell_type": "code",
      "source": [
        "print(notlar.keys())  #dict_keys(['isim','yas','meslek'])\n",
        "print(notlar.values())   #dict_values(['Ahmet','25','Mühendis'])\n",
        "print(notlar.items()) #dict_values([('isim','Ahmet),(yas,25)'(meslek,'Mühendis')])\n",
        "\n"
      ],
      "metadata": {
        "colab": {
          "base_uri": "https://localhost:8080/"
        },
        "id": "hFVbcJpVA_EO",
        "outputId": "4973153f-4079-458e-8d49-352fe0eb98fa"
      },
      "execution_count": 59,
      "outputs": [
        {
          "output_type": "stream",
          "name": "stdout",
          "text": [
            "dict_keys(['Ahmet', 'Veli', 'Ayşe', 'Fatma', 'Ali'])\n",
            "dict_values([75, 90, 78, 80, 55])\n",
            "dict_items([('Ahmet', 75), ('Veli', 90), ('Ayşe', 78), ('Fatma', 80), ('Ali', 55)])\n"
          ]
        }
      ]
    },
    {
      "cell_type": "code",
      "source": [
        "# Set - Küme Örneği -> Bir yazılım etkinliğine katılan kişilerin oluşturduğu kümeler\n",
        "kodyazanlar = {\"Ahmet\", \"Mehmet\",\"Ayşe\"}\n",
        "kodyazmayanlar={\"Ayşe\", \"Fatma\", \"Veli\"}\n",
        "\n",
        "#Kafasına göre takılan ögrenciler\n",
        "ortak=kodyazanlar.intersection(kodyazmayanlar)\n",
        "print(\"Kafasına göre takılan öğrenciler :\", ortak)\n",
        "\n",
        "#Etkinlikte kod çalışması yapmayan öğrencilerin tespiti\n",
        "Kod_yazmayan=kodyazanlar.difference(kodyazanlar)\n",
        "print(\"kod çalışması yapmayan öğrenci listesi:\", Kod_yazmayan)\n",
        "\n",
        "#Yazılım Eğitiminin öğrenci imza listesi\n",
        "imza_listesi = kodyazanlar.union(kodyazmayanlar)\n",
        "print(\"Etkinlik katılımcıları:\", imza_listesi)\n",
        "\n",
        "\n",
        "\n"
      ],
      "metadata": {
        "colab": {
          "base_uri": "https://localhost:8080/"
        },
        "id": "LwIoXb87CSd5",
        "outputId": "7461b050-cd86-4def-9c76-d26662ce983b"
      },
      "execution_count": 60,
      "outputs": [
        {
          "output_type": "stream",
          "name": "stdout",
          "text": [
            "Kafasına göre takılan öğrenciler : {'Ayşe'}\n",
            "kod çalışması yapmayan öğrenci listesi: set()\n",
            "Etkinlik katılımcıları: {'Ahmet', 'Fatma', 'Veli', 'Mehmet', 'Ayşe'}\n"
          ]
        }
      ]
    },
    {
      "cell_type": "code",
      "source": [
        "giris= input (\"Bir sayı girim: \")\n",
        "try:\n",
        "  num =float(giris)\n",
        "  print(f\"Girilen sayı:{num}, tipi: {type(num)},\" ,abs(num))\n",
        "except ValueError:\n",
        "   print(\"Gecersiz veri girdiniz\")"
      ],
      "metadata": {
        "colab": {
          "base_uri": "https://localhost:8080/"
        },
        "id": "0m31QnFtEEpg",
        "outputId": "3eff9ccb-a961-4633-840c-f97c9f367e79"
      },
      "execution_count": 61,
      "outputs": [
        {
          "output_type": "stream",
          "name": "stdout",
          "text": [
            "Bir sayı girim: \n",
            "Gecersiz veri girdiniz\n"
          ]
        }
      ]
    },
    {
      "cell_type": "code",
      "source": [
        "# 0 ile 1 arasında rastgele bir ondalık sayı üretir\n",
        "\n",
        "import random\n",
        "\n",
        "rastgele_float = random.random()\n",
        "print(\"Rastgele Deger: \" ,rastgele_float)"
      ],
      "metadata": {
        "colab": {
          "base_uri": "https://localhost:8080/"
        },
        "id": "8kuFAnrcEs0y",
        "outputId": "4344c50a-c815-4415-a0a8-49efb3035e4c"
      },
      "execution_count": 62,
      "outputs": [
        {
          "output_type": "stream",
          "name": "stdout",
          "text": [
            "Rastgele Deger:  0.16100932588749606\n"
          ]
        }
      ]
    },
    {
      "cell_type": "code",
      "source": [
        "# 1 ile 10 arasında (her iki sınır dahil) rastgele bir tam sayı üretir\n",
        "\n",
        "import random\n",
        "\n",
        "rastgele_sayi = random.randint(1,10)\n",
        "print(\"Rastgele deger:\", rastgele_sayi)"
      ],
      "metadata": {
        "colab": {
          "base_uri": "https://localhost:8080/"
        },
        "id": "ypNeehNyFapk",
        "outputId": "c8597574-3de4-44bf-a329-3ad348b8b113"
      },
      "execution_count": 63,
      "outputs": [
        {
          "output_type": "stream",
          "name": "stdout",
          "text": [
            "Rastgele deger: 3\n"
          ]
        }
      ]
    },
    {
      "cell_type": "code",
      "source": [],
      "metadata": {
        "id": "G6komliIGAyk"
      },
      "execution_count": 63,
      "outputs": []
    }
  ]
}